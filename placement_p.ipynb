{
 "cells": [
  {
   "cell_type": "code",
   "execution_count": null,
   "id": "32970f48",
   "metadata": {},
   "outputs": [
    {
     "name": "stdout",
     "output_type": "stream",
     "text": [
      "              precision    recall  f1-score   support\n",
      "\n",
      "      Tier 1       0.94      0.95      0.95      1088\n",
      "      Tier 2       0.74      0.76      0.75       429\n",
      "      Tier 3       0.54      0.46      0.50       162\n",
      "      Tier 4       0.73      0.70      0.71       126\n",
      "\n",
      "    accuracy                           0.85      1805\n",
      "   macro avg       0.74      0.72      0.73      1805\n",
      "weighted avg       0.84      0.85      0.84      1805\n",
      "\n"
     ]
    }
   ],
   "source": []
  },
  {
   "cell_type": "code",
   "execution_count": 2,
   "id": "7cf9ee92",
   "metadata": {},
   "outputs": [
    {
     "data": {
      "text/plain": [
       "['placement_scaler.pkl']"
      ]
     },
     "execution_count": 2,
     "metadata": {},
     "output_type": "execute_result"
    }
   ],
   "source": [
    "# Save Model and Scaler\n",
    "import joblib\n",
    "joblib.dump(clf, \"placement_tier_classifier.pkl\")\n",
    "joblib.dump(scaler, \"placement_scaler.pkl\")\n"
   ]
  },
  {
   "cell_type": "code",
   "execution_count": null,
   "id": "4f770931",
   "metadata": {},
   "outputs": [],
   "source": []
  }
 ],
 "metadata": {
  "kernelspec": {
   "display_name": "Python 3",
   "language": "python",
   "name": "python3"
  },
  "language_info": {
   "codemirror_mode": {
    "name": "ipython",
    "version": 3
   },
   "file_extension": ".py",
   "mimetype": "text/x-python",
   "name": "python",
   "nbconvert_exporter": "python",
   "pygments_lexer": "ipython3",
   "version": "3.12.1"
  }
 },
 "nbformat": 4,
 "nbformat_minor": 5
}
