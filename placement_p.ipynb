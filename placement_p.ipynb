{
 "cells": [
  {
   "cell_type": "code",
   "execution_count": 2,
   "id": "32970f48",
   "metadata": {},
   "outputs": [
    {
     "name": "stdout",
     "output_type": "stream",
     "text": [
      "              precision    recall  f1-score   support\n",
      "\n",
      "      Tier 1       0.94      0.95      0.95      1088\n",
      "      Tier 2       0.74      0.76      0.75       429\n",
      "      Tier 3       0.54      0.46      0.50       162\n",
      "      Tier 4       0.73      0.70      0.71       126\n",
      "\n",
      "    accuracy                           0.85      1805\n",
      "   macro avg       0.74      0.72      0.73      1805\n",
      "weighted avg       0.84      0.85      0.84      1805\n",
      "\n"
     ]
    }
   ],
   "source": [
    "import pandas as pd\n",
    "import numpy as np\n",
    "from sklearn.ensemble import RandomForestClassifier\n",
    "from sklearn.model_selection import train_test_split\n",
    "from sklearn.preprocessing import StandardScaler\n",
    "from sklearn.metrics import classification_report\n",
    "from tech_recommender import recommend_skills  # Use your actual module\n",
    "\n",
    "# STEP 1: Load Dataset\n",
    "df = pd.read_excel(\"Student_Data_With_Extras.xlsx\")\n",
    "\n",
    "# STEP 2: Create Placement Tier Labels (based on Placement column)\n",
    "def placement_to_tier(salary):\n",
    "    if salary >= 2000000:\n",
    "        return 'Tier 1'\n",
    "    elif salary >= 1000000:\n",
    "        return 'Tier 2'\n",
    "    elif salary >= 500000:\n",
    "        return 'Tier 3'\n",
    "    else:\n",
    "        return 'Tier 4'\n",
    "\n",
    "df['Placement_Tier'] = df['Placement'].apply(placement_to_tier)\n",
    "\n",
    "# STEP 3: Compute Skill Match Score using Recommender\n",
    "def compute_skill_match(row):\n",
    "    try:\n",
    "        field = row['Field']\n",
    "        skills = set(row['Skills'].split(', '))\n",
    "        result = recommend_skills(field, skills)\n",
    "        return result['Match Score (%)']\n",
    "    except:\n",
    "        return 50  # fallback default if data is missing or malformed\n",
    "\n",
    "df['Skill_Match_Score'] = df.apply(compute_skill_match, axis=1)\n",
    "\n",
    "# STEP 4: Feature Selection\n",
    "features = [\n",
    "    'Coding_Profile_Rating', 'Grades', 'Major_Projects', 'Mini_Projects',\n",
    "    'Internship', 'Hackathon', 'Skill_Match_Score',\n",
    "    'Communication_Skill_Rating', 'Workshops_Certifications','Attendance'\n",
    "]\n",
    "\n",
    "X = df[features]\n",
    "y = df['Placement_Tier']\n",
    "\n",
    "# STEP 5: Encode and Scale\n",
    "scaler = StandardScaler()\n",
    "X_scaled = scaler.fit_transform(X)\n",
    "\n",
    "# STEP 6: Train-Test Split\n",
    "X_train, X_test, y_train, y_test = train_test_split(X_scaled, y, test_size=0.2, random_state=42)\n",
    "\n",
    "# STEP 7: Train Random Forest Classifier\n",
    "clf = RandomForestClassifier(n_estimators=100, random_state=42)\n",
    "clf.fit(X_train, y_train)\n",
    "\n",
    "# STEP 8: Evaluate\n",
    "y_pred = clf.predict(X_test)\n",
    "print(classification_report(y_test, y_pred))\n",
    "\n"
   ]
  },
  {
   "cell_type": "code",
   "execution_count": 3,
   "id": "7cf9ee92",
   "metadata": {},
   "outputs": [
    {
     "data": {
      "text/plain": [
       "['placement_scaler.pkl']"
      ]
     },
     "execution_count": 3,
     "metadata": {},
     "output_type": "execute_result"
    }
   ],
   "source": [
    "# STEP 9: Save Model and Scaler\n",
    "import joblib\n",
    "joblib.dump(clf, \"placement_tier_classifier.pkl\")\n",
    "joblib.dump(scaler, \"placement_scaler.pkl\")\n"
   ]
  },
  {
   "cell_type": "code",
   "execution_count": null,
   "id": "73391860",
   "metadata": {},
   "outputs": [],
   "source": [
    "'Class_Participation_High', 'Professor_Quality',"
   ]
  },
  {
   "cell_type": "code",
   "execution_count": null,
   "id": "cada3633",
   "metadata": {},
   "outputs": [],
   "source": [
    "import pandas as pd\n",
    "import numpy as np\n",
    "from sklearn.ensemble import RandomForestRegressor\n",
    "from sklearn.model_selection import train_test_split\n",
    "from sklearn.preprocessing import StandardScaler\n",
    "from sklearn.metrics import mean_absolute_error, r2_score\n",
    "\n"
   ]
  },
  {
   "cell_type": "code",
   "execution_count": null,
   "id": "70b230d7",
   "metadata": {},
   "outputs": [],
   "source": [
    "# STEP 1: Load Dataset\n",
    "df = pd.read_excel(\"Student_Data_With_Extras.xlsx\")\n",
    "\n",
    "# STEP 2: Simulate Skill Match Score (from Tech Skill Recommender)\n",
    "np.random.seed(42)\n",
    "df['Skill_Match_Score'] = np.random.randint(40, 101, size=len(df))\n"
   ]
  },
  {
   "cell_type": "code",
   "execution_count": null,
   "id": "ebd36b8b",
   "metadata": {},
   "outputs": [],
   "source": [
    "# STEP 3: Define Features and Target\n",
    "important_features = [\n",
    "    'Coding_Profile_Rating', 'Grades', 'Major_Projects', 'Mini_Projects',\n",
    "    'Internship', 'Hackathon', 'Skill_Match_Score'\n",
    "]\n",
    "\n",
    "supportive_features = [\n",
    "    'Communication_Skill_Rating', 'Workshops_Certifications',\n",
    "    'Class_Participation_High', 'Professor_Quality', 'Attendance'\n",
    "]\n",
    "\n",
    "X = df[important_features + supportive_features]\n",
    "y = df['Placement']\n"
   ]
  },
  {
   "cell_type": "code",
   "execution_count": null,
   "id": "af2c3cdb",
   "metadata": {},
   "outputs": [],
   "source": [
    "# STEP 4: Preprocessing\n",
    "scaler = StandardScaler()\n",
    "X_scaled = scaler.fit_transform(X)\n",
    "\n"
   ]
  },
  {
   "cell_type": "code",
   "execution_count": null,
   "id": "d126b5bf",
   "metadata": {},
   "outputs": [],
   "source": [
    "# STEP 5: Train-Test Split\n",
    "X_train, X_test, y_train, y_test = train_test_split(\n",
    "    X_scaled, y, test_size=0.2, random_state=42\n",
    ")\n",
    "\n",
    "# STEP 6: Train Random Forest\n",
    "model = RandomForestRegressor(n_estimators=100, random_state=42)\n",
    "model.fit(X_train, y_train)\n"
   ]
  },
  {
   "cell_type": "code",
   "execution_count": null,
   "id": "4f770931",
   "metadata": {},
   "outputs": [],
   "source": [
    "# STEP 7: Evaluate\n",
    "y_pred = model.predict(X_test)\n",
    "print(\"MAE:\", mean_absolute_error(y_test, y_pred))\n",
    "print(\"R² Score:\", r2_score(y_test, y_pred))\n",
    "\n",
    "# STEP 8: Save Model and Scaler (optional)\n",
    "import joblib\n",
    "joblib.dump(model, \"placement_rf_model.pkl\")\n",
    "joblib.dump(scaler, \"placement_scaler.pkl\")"
   ]
  }
 ],
 "metadata": {
  "kernelspec": {
   "display_name": "Python 3",
   "language": "python",
   "name": "python3"
  },
  "language_info": {
   "codemirror_mode": {
    "name": "ipython",
    "version": 3
   },
   "file_extension": ".py",
   "mimetype": "text/x-python",
   "name": "python",
   "nbconvert_exporter": "python",
   "pygments_lexer": "ipython3",
   "version": "3.12.1"
  }
 },
 "nbformat": 4,
 "nbformat_minor": 5
}
